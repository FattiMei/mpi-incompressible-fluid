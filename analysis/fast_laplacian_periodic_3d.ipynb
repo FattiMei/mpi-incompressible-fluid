{
  "nbformat": 4,
  "nbformat_minor": 0,
  "metadata": {
    "colab": {
      "provenance": []
    },
    "kernelspec": {
      "name": "python3",
      "display_name": "Python 3"
    },
    "language_info": {
      "name": "python"
    }
  },
  "cells": [
    {
      "cell_type": "code",
      "execution_count": 29,
      "metadata": {
        "id": "7ZauP92hpVOI"
      },
      "outputs": [],
      "source": [
        "import numpy as np\n",
        "import scipy\n",
        "import sys\n",
        "\n",
        "np.set_printoptions(threshold=sys.maxsize)"
      ]
    },
    {
      "cell_type": "markdown",
      "source": [
        "Compute the fast laplacian for a 3D case for periodic boundary conditions on all boundaries, and check the results."
      ],
      "metadata": {
        "id": "EVPb1D6epf61"
      }
    },
    {
      "cell_type": "code",
      "source": [
        "N = 10 # Number of points in a side of the domain."
      ],
      "metadata": {
        "id": "w8tGSZLRpjRH"
      },
      "execution_count": 30,
      "outputs": []
    },
    {
      "cell_type": "markdown",
      "source": [
        "# Trivial method"
      ],
      "metadata": {
        "id": "zdDfuAOIprIG"
      }
    },
    {
      "cell_type": "code",
      "source": [
        "# Create the matrix for the 3D Laplacian operator.\n",
        "# The unknown is stored as a vector with N^3 components, stored like in mif.\n",
        "# The rhs has the same shape.\n",
        "# Therefore, the matrix is a square N^3 x N^3 matrix.\n",
        "# To compute the matrix, an easier representation as a 6D tensor is used.\n",
        "\n",
        "A = np.zeros(shape=(N,N,N,N,N,N))\n",
        "\n",
        "for i in range(N):\n",
        "  for j in range(N):\n",
        "    for k in range(N):\n",
        "      # Derivative wrt x.\n",
        "      A[i][j][k][i][j][k] += -2\n",
        "      A[i][j][k][(i-1)%N][j][k] += 1\n",
        "      A[i][j][k][(i+1)%N][j][k] += 1\n",
        "\n",
        "      ## Derivative wrt y.\n",
        "      A[i][j][k][i][j][k] += -2\n",
        "      A[i][j][k][i][(j-1)%N][k] += 1\n",
        "      A[i][j][k][i][(j+1)%N][k] += 1\n",
        "\n",
        "      ## Derivative wrt z.\n",
        "      A[i][j][k][i][j][k] += -2\n",
        "      A[i][j][k][i][j][(k-1)%N] += 1\n",
        "      A[i][j][k][i][j][(k+1)%N] += 1\n",
        "\n",
        "A = A.reshape(N**3,N**3)"
      ],
      "metadata": {
        "id": "aSn8IwiQu1xJ"
      },
      "execution_count": 31,
      "outputs": []
    },
    {
      "cell_type": "code",
      "source": [
        "# Create a random solution.\n",
        "np.random.seed(1)\n",
        "xex = [np.random.random() for i in range(N**3)]\n",
        "xex = np.array(xex)"
      ],
      "metadata": {
        "id": "tBahtz5v1BQX"
      },
      "execution_count": 32,
      "outputs": []
    },
    {
      "cell_type": "code",
      "source": [
        "# Compute the corresponding rhs.\n",
        "b = A @ xex"
      ],
      "metadata": {
        "id": "A2NOUQEzJH_i"
      },
      "execution_count": 33,
      "outputs": []
    },
    {
      "cell_type": "code",
      "source": [
        "# Check if the matrix construction is correct.\n",
        "# Discretize u = sin(x)*sin(y)*sin(z) in [0, 2pi]^3\n",
        "# and its laplacian rhs = -u.\n",
        "u = np.empty(shape=(N,N,N))\n",
        "rhs = np.empty(shape=(N,N,N))\n",
        "h = 2*np.pi/N\n",
        "\n",
        "for i in range(N):\n",
        "  for j in range(N):\n",
        "    for k in range(N):\n",
        "      u[i][j][k] = np.sin(h*i) + np.sin(h*j) + np.sin(h*k)\n",
        "      rhs[i][j][k] = -u[i][j][k]\n",
        "\n",
        "u = u.reshape(N**3,)\n",
        "rhs = rhs.reshape(N**3,)\n",
        "\n",
        "# Check if the laplacian of u is rhs.\n",
        "print(np.max((A/(h**2) @ u - rhs)))\n",
        "# Correct convergence order (2).\n",
        "\n",
        "# Check if the laplacian is the same if u is added a constant.\n",
        "np.max((A @ (u+7) - A @ u))"
      ],
      "metadata": {
        "colab": {
          "base_uri": "https://localhost:8080/"
        },
        "id": "ln9FW9Zso_L8",
        "outputId": "b47f0a7e-f34f-4bea-e4c9-7dfe2f96cf47"
      },
      "execution_count": 34,
      "outputs": [
        {
          "output_type": "stream",
          "name": "stdout",
          "text": [
            "0.09263896498548219\n"
          ]
        },
        {
          "output_type": "execute_result",
          "data": {
            "text/plain": [
              "7.993605777301127e-15"
            ]
          },
          "metadata": {},
          "execution_count": 34
        }
      ]
    },
    {
      "cell_type": "markdown",
      "source": [
        "# Intermediate method"
      ],
      "metadata": {
        "id": "lHykiCGsT9FO"
      }
    },
    {
      "cell_type": "code",
      "source": [
        "# Compute eigenvector matrices.\n",
        "Phi = np.empty(shape=(N,N), dtype=complex)\n",
        "\n",
        "for i in range(N):\n",
        "  for j in range(N):\n",
        "    Phi[i][j] = np.exp(1j * 2 * np.pi * i * j / N) / np.sqrt(N)\n",
        "\n",
        "H = Phi"
      ],
      "metadata": {
        "id": "68RlSeNSUFVt"
      },
      "execution_count": 35,
      "outputs": []
    },
    {
      "cell_type": "code",
      "source": [
        "# Compute btilde.\n",
        "b_view = b.reshape(N,N,N)\n",
        "btilde = np.empty(shape=(N, N, N), dtype=complex)\n",
        "\n",
        "for i in range(N):\n",
        "  for j in range(N):\n",
        "    for k in range(N):\n",
        "      total = 0\n",
        "      for m in range(N):\n",
        "        for n in range(N):\n",
        "          for p in range(N):\n",
        "            total += np.conj(Phi[m][i]) * np.conj(Phi[n][j]) * np.conj(Phi[p][k]) * b_view[m][n][p]\n",
        "      btilde[i][j][k] = total"
      ],
      "metadata": {
        "id": "elIqHlEhT9FQ"
      },
      "execution_count": 36,
      "outputs": []
    },
    {
      "cell_type": "code",
      "source": [
        "# Compute xtilde.\n",
        "xtilde = np.copy(btilde)\n",
        "xtilde[0,:,:] = 0\n",
        "xtilde[:,0,:] = 0\n",
        "xtilde[:,:,0] = 0\n",
        "for i in range(1, N):\n",
        "  for j in range(1, N):\n",
        "    for k in range(1, N):\n",
        "      xtilde[i][j][k] /= (2*np.cos(2 * np.pi * i / N)-2)\n",
        "      xtilde[i][j][k] /= (2*np.cos(2 * np.pi * j / N)-2)\n",
        "      xtilde[i][j][k] /= (2*np.cos(2 * np.pi * k / N)-2)"
      ],
      "metadata": {
        "id": "qZa5s0zhT9FS"
      },
      "execution_count": 37,
      "outputs": []
    },
    {
      "cell_type": "code",
      "source": [
        "# Compute xtilde.\n",
        "xtilde = np.copy(btilde)\n",
        "xtilde[0,0,0] = 0\n",
        "for i in range(N):\n",
        "  for j in range(N):\n",
        "    for k in range(N):\n",
        "      eigx = (2*np.cos(2 * np.pi * i / N)-2)\n",
        "      eigy = (2*np.cos(2 * np.pi * j / N)-2)\n",
        "      eigz = (2*np.cos(2 * np.pi * k / N)-2)\n",
        "\n",
        "      if not (i == 0 and j == 0 and k == 0):\n",
        "        xtilde[i][j][k] /= (eigx + eigy + eigz)\n",
        "      else:\n",
        "        xtilde[i][j][k] = 0\n",
        "xtilde2 = xtilde"
      ],
      "metadata": {
        "id": "AEzr-KC3T9FU"
      },
      "execution_count": 38,
      "outputs": []
    },
    {
      "cell_type": "code",
      "source": [
        "# The result should be real. Verify this and remove the imaginary part.\n",
        "tol = 1e-10\n",
        "for i in range(N**3):\n",
        "  assert abs(x[i].imag) < tol\n",
        "\n",
        "xreal = np.empty(N**3)\n",
        "for i in range(N**3):\n",
        "  xreal[i] = x[i].real\n",
        "x = xreal"
      ],
      "metadata": {
        "id": "tB2Ge4n7Z9Gk"
      },
      "execution_count": 39,
      "outputs": []
    },
    {
      "cell_type": "code",
      "source": [
        "# Check the result: xex and x should differ by a constant.\n",
        "tol = 1e-10\n",
        "constant = xex[i] - x[i]\n",
        "for i in range(1,N):\n",
        "  assert xex[i] - x[i] - constant < tol"
      ],
      "metadata": {
        "id": "iTiDqxJFT9FZ"
      },
      "execution_count": 40,
      "outputs": []
    },
    {
      "cell_type": "markdown",
      "source": [
        "# Fast method"
      ],
      "metadata": {
        "id": "FczbGrWphDrB"
      }
    },
    {
      "cell_type": "code",
      "source": [
        "# Compute btilde.\n",
        "b_view = b.reshape(N,N,N)\n",
        "\n",
        "# Step 1.\n",
        "btilde1 = np.empty(shape=(N, N, N), dtype=complex)\n",
        "for m in range(N):\n",
        "  for n in range(N):\n",
        "    btilde1[m,n,:] = scipy.fftpack.fft(b_view[m,n,:])\n",
        "\n",
        "# Step 2.\n",
        "btilde2 = np.copy(btilde1)\n",
        "for k in range(N):\n",
        "  for m in range(N):\n",
        "    btilde2[k,:,m] = scipy.fftpack.fft(btilde1[k,:,m])\n",
        "\n",
        "# Step 3.\n",
        "btilde = np.copy(btilde2)\n",
        "for j in range(N):\n",
        "  for k in range(N):\n",
        "    btilde[:,j,k] = scipy.fftpack.fft(btilde2[:,j,k])"
      ],
      "metadata": {
        "id": "AyXRQqOiJOLo"
      },
      "execution_count": 41,
      "outputs": []
    },
    {
      "cell_type": "code",
      "source": [
        "# Compute xtilde.\n",
        "xtilde = np.copy(btilde)\n",
        "xtilde[0,0,0] = 0\n",
        "for i in range(N):\n",
        "  for j in range(N):\n",
        "    for k in range(N):\n",
        "      eigx = (2*np.cos(2 * np.pi * i / N)-2)\n",
        "      eigy = (2*np.cos(2 * np.pi * j / N)-2)\n",
        "      eigz = (2*np.cos(2 * np.pi * k / N)-2)\n",
        "\n",
        "      if not (i == 0 and j == 0 and k == 0):\n",
        "        xtilde[i][j][k] /= (eigx + eigy + eigz)\n",
        "      else:\n",
        "        xtilde[i][j][k] = 0\n",
        "xtilde2 = xtilde"
      ],
      "metadata": {
        "id": "O8XcQdi3OQsd"
      },
      "execution_count": 42,
      "outputs": []
    },
    {
      "cell_type": "code",
      "source": [
        "# Compute x.\n",
        "# Step 1.\n",
        "x1 = np.empty(shape=(N, N, N), dtype=complex)\n",
        "for m in range(N):\n",
        "  for n in range(N):\n",
        "    x1[...,m,n] = scipy.fftpack.ifft(xtilde[m,n,...])\n",
        "\n",
        "# Step 2.\n",
        "x2 = np.copy(x1)\n",
        "for k in range(N):\n",
        "  for m in range(N):\n",
        "    x2[...,k,m] = scipy.fftpack.ifft(x1[k,m,...])\n",
        "\n",
        "# Step 3.\n",
        "x_view = np.copy(x2)\n",
        "for j in range(N):\n",
        "  for k in range(N):\n",
        "    x_view[...,j,k] = scipy.fftpack.ifft(x2[j,k,...])\n",
        "\n",
        "x = x_view.reshape((N**3,))"
      ],
      "metadata": {
        "id": "jvQQbSMHPADt"
      },
      "execution_count": 43,
      "outputs": []
    },
    {
      "cell_type": "code",
      "source": [
        "# The inverse fft returns a vector of complex numbers, but the imaginary part\n",
        "# should be zero. Verify this and remove the imaginary part.\n",
        "tol = 1e-10\n",
        "for i in range(N**3):\n",
        "  assert abs(x[i].imag) < tol\n",
        "\n",
        "xreal = np.empty(N**3)\n",
        "for i in range(N**3):\n",
        "  xreal[i] = x[i].real\n",
        "x = xreal"
      ],
      "metadata": {
        "id": "giOxkblDmFW0"
      },
      "execution_count": 44,
      "outputs": []
    },
    {
      "cell_type": "code",
      "source": [
        "# Check the result: xex and x should differ by a constant.\n",
        "tol = 1e-10\n",
        "constant = xex[i] - x[i]\n",
        "for i in range(1,N):\n",
        "  assert xex[i] - x[i] - constant < tol"
      ],
      "metadata": {
        "id": "lFmrpn4lmOSR"
      },
      "execution_count": 45,
      "outputs": []
    }
  ]
}