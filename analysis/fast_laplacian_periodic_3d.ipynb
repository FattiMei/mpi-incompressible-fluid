{
 "cells": [
  {
   "cell_type": "code",
   "execution_count": 3,
   "metadata": {
    "id": "7ZauP92hpVOI"
   },
   "outputs": [],
   "source": [
    "import numpy as np\n",
    "import scipy\n",
    "import sys\n",
    "\n",
    "np.set_printoptions(threshold=sys.maxsize)"
   ]
  },
  {
   "cell_type": "markdown",
   "metadata": {
    "id": "EVPb1D6epf61"
   },
   "source": [
    "Compute the fast laplacian for a 3D case for periodic boundary conditions on all boundaries, and check the results."
   ]
  },
  {
   "cell_type": "code",
   "execution_count": 4,
   "metadata": {
    "id": "w8tGSZLRpjRH"
   },
   "outputs": [],
   "source": [
    "N = 10 # Number of points in a side of the domain."
   ]
  },
  {
   "cell_type": "markdown",
   "metadata": {
    "id": "zdDfuAOIprIG"
   },
   "source": [
    "# Trivial method"
   ]
  },
  {
   "cell_type": "code",
   "execution_count": 7,
   "metadata": {
    "id": "aSn8IwiQu1xJ"
   },
   "outputs": [],
   "source": [
    "# Create the matrix for the 3D Laplacian operator.\n",
    "# The unknown is stored as a vector with N^3 components, stored like in mif.\n",
    "# The rhs has the same shape.\n",
    "# Therefore, the matrix is a square N^3 x N^3 matrix.\n",
    "# To compute the matrix, an easier representation as a 6D tensor is used.\n",
    "\n",
    "A = np.zeros(shape=(N,N,N,N,N,N))\n",
    "\n",
    "for i in range(N):\n",
    "  for j in range(N):\n",
    "    for k in range(N):\n",
    "      # Derivative wrt x.\n",
    "      A[i][j][k][i][j][k] += -2\n",
    "      A[i][j][k][(i-1)%N][j][k] += 1\n",
    "      A[i][j][k][(i+1)%N][j][k] += 1\n",
    "\n",
    "      ## Derivative wrt y.\n",
    "      A[i][j][k][i][j][k] += -2\n",
    "      A[i][j][k][i][(j-1)%N][k] += 1\n",
    "      A[i][j][k][i][(j+1)%N][k] += 1\n",
    "\n",
    "      ## Derivative wrt z.\n",
    "      A[i][j][k][i][j][k] += -2\n",
    "      A[i][j][k][i][j][(k-1)%N] += 1\n",
    "      A[i][j][k][i][j][(k+1)%N] += 1\n",
    "\n",
    "A = A.reshape(N**3,N**3)"
   ]
  },
  {
   "cell_type": "code",
   "execution_count": 8,
   "metadata": {
    "id": "tBahtz5v1BQX"
   },
   "outputs": [],
   "source": [
    "# Create a random solution.\n",
    "np.random.seed(1)\n",
    "xex = [np.random.random() for i in range(N**3)]\n",
    "xex = np.array(xex)"
   ]
  },
  {
   "cell_type": "code",
   "execution_count": 9,
   "metadata": {
    "id": "A2NOUQEzJH_i"
   },
   "outputs": [],
   "source": [
    "# Compute the corresponding rhs.\n",
    "b = A @ xex"
   ]
  },
  {
   "cell_type": "code",
   "execution_count": 10,
   "metadata": {
    "colab": {
     "base_uri": "https://localhost:8080/"
    },
    "id": "ln9FW9Zso_L8",
    "outputId": "b47f0a7e-f34f-4bea-e4c9-7dfe2f96cf47"
   },
   "outputs": [
    {
     "name": "stdout",
     "output_type": "stream",
     "text": [
      "0.09263896498548219\n"
     ]
    },
    {
     "data": {
      "text/plain": [
       "np.float64(7.993605777301127e-15)"
      ]
     },
     "execution_count": 10,
     "metadata": {},
     "output_type": "execute_result"
    }
   ],
   "source": [
    "# Check if the matrix construction is correct.\n",
    "# Discretize u = sin(x)*sin(y)*sin(z) in [0, 2pi]^3\n",
    "# and its laplacian rhs = -u.\n",
    "u = np.empty(shape=(N,N,N))\n",
    "rhs = np.empty(shape=(N,N,N))\n",
    "h = 2*np.pi/N\n",
    "\n",
    "for i in range(N):\n",
    "  for j in range(N):\n",
    "    for k in range(N):\n",
    "      u[i][j][k] = np.sin(h*i) + np.sin(h*j) + np.sin(h*k)\n",
    "      rhs[i][j][k] = -u[i][j][k]\n",
    "\n",
    "u = u.reshape(N**3,)\n",
    "rhs = rhs.reshape(N**3,)\n",
    "\n",
    "# Check if the laplacian of u is rhs.\n",
    "print(np.max((A/(h**2) @ u - rhs)))\n",
    "# Correct convergence order (2).\n",
    "\n",
    "# Check if the laplacian is the same if u is added a constant.\n",
    "np.max((A @ (u+7) - A @ u))"
   ]
  },
  {
   "cell_type": "markdown",
   "metadata": {
    "id": "lHykiCGsT9FO"
   },
   "source": [
    "# Intermediate method"
   ]
  },
  {
   "cell_type": "code",
   "execution_count": 35,
   "metadata": {
    "id": "68RlSeNSUFVt"
   },
   "outputs": [],
   "source": [
    "# Compute eigenvector matrices.\n",
    "Phi = np.empty(shape=(N,N), dtype=complex)\n",
    "\n",
    "for i in range(N):\n",
    "  for j in range(N):\n",
    "    Phi[i][j] = np.exp(1j * 2 * np.pi * i * j / N) / np.sqrt(N)\n",
    "\n",
    "H = Phi"
   ]
  },
  {
   "cell_type": "code",
   "execution_count": 36,
   "metadata": {
    "id": "elIqHlEhT9FQ"
   },
   "outputs": [],
   "source": [
    "# Compute btilde.\n",
    "b_view = b.reshape(N,N,N)\n",
    "btilde = np.empty(shape=(N, N, N), dtype=complex)\n",
    "\n",
    "for i in range(N):\n",
    "  for j in range(N):\n",
    "    for k in range(N):\n",
    "      total = 0\n",
    "      for m in range(N):\n",
    "        for n in range(N):\n",
    "          for p in range(N):\n",
    "            total += np.conj(Phi[m][i]) * np.conj(Phi[n][j]) * np.conj(Phi[p][k]) * b_view[m][n][p]\n",
    "      btilde[i][j][k] = total"
   ]
  },
  {
   "cell_type": "code",
   "execution_count": 37,
   "metadata": {
    "id": "qZa5s0zhT9FS"
   },
   "outputs": [],
   "source": [
    "# Compute xtilde.\n",
    "xtilde = np.copy(btilde)\n",
    "xtilde[0,:,:] = 0\n",
    "xtilde[:,0,:] = 0\n",
    "xtilde[:,:,0] = 0\n",
    "for i in range(1, N):\n",
    "  for j in range(1, N):\n",
    "    for k in range(1, N):\n",
    "      xtilde[i][j][k] /= (2*np.cos(2 * np.pi * i / N)-2)\n",
    "      xtilde[i][j][k] /= (2*np.cos(2 * np.pi * j / N)-2)\n",
    "      xtilde[i][j][k] /= (2*np.cos(2 * np.pi * k / N)-2)"
   ]
  },
  {
   "cell_type": "code",
   "execution_count": 38,
   "metadata": {
    "id": "AEzr-KC3T9FU"
   },
   "outputs": [],
   "source": [
    "# Compute xtilde.\n",
    "xtilde = np.copy(btilde)\n",
    "xtilde[0,0,0] = 0\n",
    "for i in range(N):\n",
    "  for j in range(N):\n",
    "    for k in range(N):\n",
    "      eigx = (2*np.cos(2 * np.pi * i / N)-2)\n",
    "      eigy = (2*np.cos(2 * np.pi * j / N)-2)\n",
    "      eigz = (2*np.cos(2 * np.pi * k / N)-2)\n",
    "\n",
    "      if not (i == 0 and j == 0 and k == 0):\n",
    "        xtilde[i][j][k] /= (eigx + eigy + eigz)\n",
    "      else:\n",
    "        xtilde[i][j][k] = 0\n",
    "xtilde2 = xtilde"
   ]
  },
  {
   "cell_type": "code",
   "execution_count": 39,
   "metadata": {
    "id": "tB2Ge4n7Z9Gk"
   },
   "outputs": [],
   "source": [
    "# The result should be real. Verify this and remove the imaginary part.\n",
    "tol = 1e-10\n",
    "for i in range(N**3):\n",
    "  assert abs(x[i].imag) < tol\n",
    "\n",
    "xreal = np.empty(N**3)\n",
    "for i in range(N**3):\n",
    "  xreal[i] = x[i].real\n",
    "x = xreal"
   ]
  },
  {
   "cell_type": "code",
   "execution_count": 40,
   "metadata": {
    "id": "iTiDqxJFT9FZ"
   },
   "outputs": [],
   "source": [
    "# Check the result: xex and x should differ by a constant.\n",
    "tol = 1e-10\n",
    "constant = xex[i] - x[i]\n",
    "for i in range(1,N):\n",
    "  assert xex[i] - x[i] - constant < tol"
   ]
  },
  {
   "cell_type": "markdown",
   "metadata": {
    "id": "FczbGrWphDrB"
   },
   "source": [
    "# Fast method"
   ]
  },
  {
   "cell_type": "code",
   "execution_count": 11,
   "metadata": {
    "id": "AyXRQqOiJOLo"
   },
   "outputs": [],
   "source": [
    "# Compute btilde.\n",
    "b_view = b.reshape(N,N,N)\n",
    "\n",
    "# Step 1.\n",
    "btilde1 = np.empty(shape=(N, N, N), dtype=complex)\n",
    "for m in range(N):\n",
    "  for n in range(N):\n",
    "    btilde1[m,n,:] = scipy.fftpack.fft(b_view[m,n,:])\n",
    "\n",
    "# Step 2.\n",
    "btilde2 = np.copy(btilde1)\n",
    "for k in range(N):\n",
    "  for m in range(N):\n",
    "    btilde2[k,:,m] = scipy.fftpack.fft(btilde1[k,:,m])\n",
    "\n",
    "# Step 3.\n",
    "btilde = np.copy(btilde2)\n",
    "for j in range(N):\n",
    "  for k in range(N):\n",
    "    btilde[:,j,k] = scipy.fftpack.fft(btilde2[:,j,k])"
   ]
  },
  {
   "cell_type": "code",
   "execution_count": 12,
   "metadata": {},
   "outputs": [],
   "source": [
    "# Compute xtilde.\n",
    "xtilde = np.copy(btilde)\n",
    "xtilde[0,0,0] = 0\n",
    "for i in range(1,N):\n",
    "  for j in range(N):\n",
    "    for k in range(N):\n",
    "      eigx = (2*np.cos(2 * np.pi * i / N)-2)\n",
    "      eigy = (2*np.cos(2 * np.pi * j / N)-2)\n",
    "      eigz = (2*np.cos(2 * np.pi * k / N)-2)\n",
    "      xtilde[i][j][k] /= (eigx + eigy + eigz)\n",
    "i = 0\n",
    "for j in range (1, N):\n",
    "    for k in range(N):\n",
    "      eigx = (2*np.cos(2 * np.pi * i / N)-2)\n",
    "      eigy = (2*np.cos(2 * np.pi * j / N)-2)\n",
    "      eigz = (2*np.cos(2 * np.pi * k / N)-2)\n",
    "      xtilde[i][j][k] /= (eigx + eigy + eigz)\n",
    "i = 0\n",
    "j = 0\n",
    "for k in range(1, N):\n",
    "      eigx = (2*np.cos(2 * np.pi * i / N)-2)\n",
    "      eigy = (2*np.cos(2 * np.pi * j / N)-2)\n",
    "      eigz = (2*np.cos(2 * np.pi * k / N)-2)\n",
    "      xtilde[i][j][k] /= (eigx + eigy + eigz)\n",
    "xtilde2 = xtilde"
   ]
  },
  {
   "cell_type": "markdown",
   "metadata": {
    "id": "O8XcQdi3OQsd"
   },
   "source": [
    "```\n",
    "# Compute xtilde.\n",
    "xtilde = np.copy(btilde)\n",
    "xtilde[0,0,0] = 0\n",
    "for i in range(N):\n",
    "  for j in range(N):\n",
    "    for k in range(N):\n",
    "      eigx = (2*np.cos(2 * np.pi * i / N)-2)\n",
    "      eigy = (2*np.cos(2 * np.pi * j / N)-2)\n",
    "      eigz = (2*np.cos(2 * np.pi * k / N)-2)\n",
    "\n",
    "      if not (i == 0 and j == 0 and k == 0):\n",
    "        xtilde[i][j][k] /= (eigx + eigy + eigz)\n",
    "      else:\n",
    "        xtilde[i][j][k] = 0\n",
    "xtilde2 = xtilde\n",
    "```"
   ]
  },
  {
   "cell_type": "code",
   "execution_count": 13,
   "metadata": {
    "id": "jvQQbSMHPADt"
   },
   "outputs": [],
   "source": [
    "# Compute x.\n",
    "# Step 1.\n",
    "x1 = np.empty(shape=(N, N, N), dtype=complex)\n",
    "for m in range(N):\n",
    "  for n in range(N):\n",
    "    x1[...,m,n] = scipy.fftpack.ifft(xtilde[m,n,...])\n",
    "\n",
    "# Step 2.\n",
    "x2 = np.copy(x1)\n",
    "for k in range(N):\n",
    "  for m in range(N):\n",
    "    x2[...,k,m] = scipy.fftpack.ifft(x1[k,m,...])\n",
    "\n",
    "# Step 3.\n",
    "x_view = np.copy(x2)\n",
    "for j in range(N):\n",
    "  for k in range(N):\n",
    "    x_view[...,j,k] = scipy.fftpack.ifft(x2[j,k,...])\n",
    "\n",
    "x = x_view.reshape((N**3,))"
   ]
  },
  {
   "cell_type": "code",
   "execution_count": 14,
   "metadata": {
    "id": "giOxkblDmFW0"
   },
   "outputs": [],
   "source": [
    "# The inverse fft returns a vector of complex numbers, but the imaginary part\n",
    "# should be zero. Verify this and remove the imaginary part.\n",
    "tol = 1e-10\n",
    "for i in range(N**3):\n",
    "  assert abs(x[i].imag) < tol\n",
    "\n",
    "xreal = np.empty(N**3)\n",
    "for i in range(N**3):\n",
    "  xreal[i] = x[i].real\n",
    "x = xreal"
   ]
  },
  {
   "cell_type": "code",
   "execution_count": 15,
   "metadata": {
    "id": "lFmrpn4lmOSR"
   },
   "outputs": [],
   "source": [
    "# Check the result: xex and x should differ by a constant.\n",
    "tol = 1e-10\n",
    "constant = xex[i] - x[i]\n",
    "for i in range(1,N):\n",
    "  assert xex[i] - x[i] - constant < tol"
   ]
  },
  {
   "cell_type": "code",
   "execution_count": 16,
   "metadata": {},
   "outputs": [
    {
     "name": "stdout",
     "output_type": "stream",
     "text": [
      "0.5006045994559047\n"
     ]
    }
   ],
   "source": [
    "print(constant)"
   ]
  }
 ],
 "metadata": {
  "colab": {
   "provenance": []
  },
  "kernelspec": {
   "display_name": "Python 3 (ipykernel)",
   "language": "python",
   "name": "python3"
  },
  "language_info": {
   "codemirror_mode": {
    "name": "ipython",
    "version": 3
   },
   "file_extension": ".py",
   "mimetype": "text/x-python",
   "name": "python",
   "nbconvert_exporter": "python",
   "pygments_lexer": "ipython3",
   "version": "3.11.2"
  }
 },
 "nbformat": 4,
 "nbformat_minor": 4
}
