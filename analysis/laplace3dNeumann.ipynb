{
 "cells": [
  {
   "cell_type": "code",
   "execution_count": 130,
   "metadata": {},
   "outputs": [],
   "source": [
    "from types import CellType\n",
    "import numpy as np\n",
    "import scipy\n",
    "import sys\n",
    "import matplotlib.pyplot as plt\n",
    "np.set_printoptions(threshold=sys.maxsize)\n",
    "N = 20 # Number of points in a side of the domain."
   ]
  },
  {
   "cell_type": "markdown",
   "metadata": {},
   "source": [
    "Compute the fast laplacian for a 3D case for periodic boundary conditions on all boundaries, and check the results."
   ]
  },
  {
   "cell_type": "markdown",
   "metadata": {},
   "source": [
    "# Create manufactured solution"
   ]
  },
  {
   "cell_type": "code",
   "execution_count": 131,
   "metadata": {},
   "outputs": [],
   "source": [
    "# Discretize u = cos(x) * cos(y) * cos(z) in [0, 2pi]^3\n",
    "# and its laplacian rhs = -3u.\n",
    "u = np.empty(shape=(N,N,N))\n",
    "rhs = np.empty(shape=(N,N,N))\n",
    "h = 2*np.pi/(N-1)\n",
    "# Create the manufactured solution\n",
    "for i in range(N):\n",
    "  for j in range(N):\n",
    "    for k in range(N):\n",
    "      u[i][j][k] = np.cos(h*i)*np.cos(h*j)*np.cos(h*k)\n",
    "      rhs[i][j][k] = -3*np.cos(h*i)*np.cos(h*j)*np.cos(h*k)\n",
    "# u = u.reshape(N**3)\n",
    "# rhs = rhs.reshape(N**3)"
   ]
  },
  {
   "cell_type": "markdown",
   "metadata": {
    "jp-MarkdownHeadingCollapsed": true
   },
   "source": [
    "# Trivial method (NOT WORKING)"
   ]
  },
  {
   "cell_type": "code",
   "execution_count": 23,
   "metadata": {},
   "outputs": [],
   "source": [
    "# Create the matrix for the 3D Laplacian operator.\n",
    "# The unknown is stored as a vector with N^3 components, stored like in mif.\n",
    "# The rhs has the same shape.\n",
    "# Therefore, the matrix is a square N^3 x N^3 matrix.\n",
    "# To compute the matrix, an easier representation as a 6D tensor is used.\n",
    "A = np.zeros(shape=(N,N,N,N,N,N))\n",
    "for i in range(N):\n",
    "  for j in range(N):\n",
    "    for k in range(N):\n",
    "            if (i != 0 and i!= N-1):\n",
    "                # Derivative wrt x.\n",
    "                A[i][j][k][i][j][k] += -2\n",
    "                A[i][j][k][(i-1)][j][k] += 1\n",
    "                A[i][j][k][(i+1)][j][k] += 1\n",
    "            elif (i ==0):\n",
    "                A[i][j][k][i  ][j][k] += -2\n",
    "                A[i][j][k][i+1][j][k] +=  2\n",
    "            else :\n",
    "                A[i][j][k][i  ][j][k] += -2\n",
    "                A[i][j][k][i-1][j][k] +=  2\n",
    "\n",
    "            if (j != 0 and j!= N-1):\n",
    "                ## Derivative wrt y.\n",
    "                A[i][j][k][i][j][k] += -2\n",
    "                A[i][j][k][i][(j-1)][k] += 1\n",
    "                A[i][j][k][i][(j+1)][k] += 1\n",
    "            elif (j ==0):\n",
    "                A[i][j][k][i][j  ][k] += -2\n",
    "                A[i][j][k][i][j+1][k] +=  2\n",
    "            else :\n",
    "                A[i][j][k][i][j  ][k] += -2\n",
    "                A[i][j][k][i][j-1][k] +=  2\n",
    "            if (k != 0 and k!= N-1):\n",
    "                ## Derivative wrt z.\n",
    "                A[i][j][k][i][j][k] += -2\n",
    "                A[i][j][k][i][j][(k-1)] += 1\n",
    "                A[i][j][k][i][j][(k+1)] += 1\n",
    "            elif (k ==0):\n",
    "                A[i][j][k][i][j][k  ] += -2\n",
    "                A[i][j][k][i][j][k+1] +=  2\n",
    "            else :                  \n",
    "                A[i][j][k][i][j][k  ] += -2\n",
    "                A[i][j][k][i][j][k-1] +=  2\n",
    "# reshape of the tensor in a matrix\n",
    "A = A.reshape(N**3,N**3)\n",
    "#print(A)"
   ]
  },
  {
   "cell_type": "code",
   "execution_count": 24,
   "metadata": {},
   "outputs": [],
   "source": [
    "# TRY SOLVE THE SYSTEM IN THE \"Dummy way\"\n",
    "# set as non singular the system (ie impose the pressure in the point (0, 0, 0))\n",
    "i = 0\n",
    "A[i, :] = np.zeros(N**3)\n",
    "A[i][0] = 1\n",
    "rhs[i] = u[i]\n",
    "# Solvw the lin syst A_ij/h**2 x_j = b_i\n",
    "uh = h**2 * np.linalg.solve(A, rhs)\n",
    "const = u[0] - uh[0]\n"
   ]
  },
  {
   "cell_type": "code",
   "execution_count": 28,
   "metadata": {},
   "outputs": [
    {
     "name": "stdout",
     "output_type": "stream",
     "text": [
      "N elem:  5 \n",
      "\n",
      "CHECK:  Max Err:  -0.999999999999977 Min Err:  -1.4674011002723395 check in 0 :  -1.4674011002723395\n"
     ]
    },
    {
     "data": {
      "image/png": "[encoded data removed]",
      "text/plain": [
       "<Figure size 640x480 with 1 Axes>"
      ]
     },
     "metadata": {},
     "output_type": "display_data"
    }
   ],
   "source": [
    "# Check if the laplacian of u is rhs.\n",
    "print(\"N elem: \", N, \"\\n\")\n",
    "print(\"CHECK: \", \"Max Err: \", max(u-uh), \"Min Err: \", min(u-uh), \"check in 0 : \", const)\n",
    "# print(\"Massima discrepanza :\", np.max((A @ uh - A @ u)), \"Posizione : \", np.argmax((A @ uh - A @ u)) )\n",
    "# print(\"Minima discrepanza  :\", np.min((A @ uh - A @ u)), \"Posizione : \", np.argmin((A @ uh - A @ u)) )\n",
    "# Correct convergence order (2).\n",
    "#plt.plot(u, '-ro')\n",
    "#plt.plot(uh + const, '-bo')\n",
    "plt.plot(u-uh)\n",
    "plt.show()"
   ]
  },
  {
   "cell_type": "markdown",
   "metadata": {},
   "source": [
    "# DCT solver"
   ]
  },
  {
   "cell_type": "code",
   "execution_count": 132,
   "metadata": {},
   "outputs": [],
   "source": [
    "# COMPUTE bHat\n",
    "bHat = np.copy(rhs)\n",
    "# bHat = bHat.reshape(N, N, N)\n",
    "# for i in range(N):\n",
    "#     for j in range(N):\n",
    "#         for k in range(N):\n",
    "#             if( i == 0 or i == N-1):\n",
    "#                 bHat[i][j][k] /= np.sqrt(2)\n",
    "#             if( j == 0 or j == N-1):\n",
    "#                 bHat[i][j][k] /= np.sqrt(2)\n",
    "#             if( k == 0 or k == N-1):\n",
    "#                 bHat[i][j][k] /= np.sqrt(2)\n",
    "# for l in range(N):\n",
    "#     for m in range(N):\n",
    "#         bHat[0 ][l][m] /= np.sqrt(2)\n",
    "#         bHat[-1][l][m] /= np.sqrt(2)\n",
    "# for l in range(1, N-1):\n",
    "#     for m in range(N):\n",
    "#         bHat[l][0 ][m] /= np.sqrt(2)\n",
    "#         bHat[l][-1][m] /= np.sqrt(2)\n",
    "# for l in range(1, N-1):\n",
    "#     for m in range(1, N-1):\n",
    "#         bHat[l][m][0 ] /= np.sqrt(2)\n",
    "#         bHat[l][m][-1] /= np.sqrt(2)"
   ]
  },
  {
   "cell_type": "code",
   "execution_count": 133,
   "metadata": {},
   "outputs": [],
   "source": [
    "# COMPUTE BTIlDA\n",
    "btilda = np.empty(shape=(N,N,N))\n",
    "# dct along x\n",
    "btilda = bHat\n",
    "for j in range(N):\n",
    "    for k in range(N):\n",
    "        btilda[:][j][k] = scipy.fftpack.dct(bHat[:][j][k], type=1, norm='ortho')\n",
    "# dct along y\n",
    "bHat = btilda\n",
    "for i in range(N):\n",
    "    for k in range(N):\n",
    "        btilda[i][:][k] = scipy.fftpack.dct(bHat[i][:][k], type=1, norm='ortho')\n",
    "# dct along z\n",
    "bHat = btilda\n",
    "for i in range(N):\n",
    "    for j in range(N):\n",
    "        btilda[i][j][:] = scipy.fftpack.dct(bHat[i][j][:], type=1, norm='ortho')"
   ]
  },
  {
   "cell_type": "code",
   "execution_count": 146,
   "metadata": {},
   "outputs": [],
   "source": [
    "# Compute x_tilda (Sol in dct space)\n",
    "xtilde = np.copy(btilda)\n",
    "xtilde[0,0,0] = 0\n",
    "for i in range(1,N):\n",
    "  for j in range(N):\n",
    "    for k in range(N):\n",
    "      eigx = (2*np.cos(np.pi * (i) / (N-1))-2)\n",
    "      eigy = (2*np.cos(np.pi * (j) / (N-1))-2)\n",
    "      eigz = (2*np.cos(np.pi * (k) / (N-1))-2)\n",
    "      xtilde[i][j][k] /= (eigx + eigy + eigz)*h**2\n",
    "i = 0\n",
    "for j in range (1, N):\n",
    "    for k in range(N):\n",
    "        \n",
    "      eigx = (2*np.cos(np.pi * (i) / (N-1))-2)\n",
    "      eigy = (2*np.cos(np.pi * (j) / (N-1))-2)\n",
    "      eigz = (2*np.cos(np.pi * (k) / (N-1))-2)\n",
    "      xtilde[i][j][k] /= (eigx + eigy + eigz)*h**2\n",
    "i = 0\n",
    "j = 0\n",
    "for k in range(1, N):\n",
    "    \n",
    "      eigx = (2*np.cos(np.pi * (i) / (N-1))-2)\n",
    "      eigy = (2*np.cos(np.pi * (j) / (N-1))-2)\n",
    "      eigz = (2*np.cos(np.pi * (k) / (N-1))-2)\n",
    "      xtilde[i][j][k] /= (eigx + eigy + eigz)*h**2\n",
    "xtilde2 = xtilde\n"
   ]
  },
  {
   "cell_type": "code",
   "execution_count": 147,
   "metadata": {},
   "outputs": [],
   "source": [
    "# Compute xhat\n",
    "# idct along x\n",
    "for j in range(N):\n",
    "    for k in range(N):\n",
    "        xtilde2[:][j][k] = scipy.fftpack.dct(xtilde[:][j][k], type=1, norm='ortho')\n",
    "# idct along y\n",
    "xtilde3 = xtilde2\n",
    "for i in range(N):\n",
    "    for k in range(N):\n",
    "        xtilde3[i][:][k] = scipy.fftpack.dct(xtilde2[i][:][k], type=1, norm='ortho')\n",
    "# idct along z\n",
    "xHat = xtilde3\n",
    "for i in range(N):\n",
    "    for j in range(N):\n",
    "        xHat[i][j][:]    = scipy.fftpack.dct(xtilde3[i][j][:], type=1, norm='ortho')\n",
    "# Get solution (ie from xhat to x)\n",
    "xview = np.copy(xHat)\n",
    "# for l in range(N):\n",
    "#     for m in range(N):\n",
    "#         xview[0 ][l][m] *= np.sqrt(2)\n",
    "#         xview[-1][l][m] *= np.sqrt(2)\n",
    "# for l in range(1, N-1):\n",
    "#     for m in range(N):\n",
    "#         xview[l][0 ][m] *= np.sqrt(2)\n",
    "#         xview[l][-1][m] *= np.sqrt(2)\n",
    "# for l in range(1, N-1):\n",
    "#     for m in range(1, N-1):\n",
    "#         xview[l][m][0 ] *= np.sqrt(2)\n",
    "#         xview[l][m][-1] *= np.sqrt(2)\n",
    "                \n",
    "# we now have the final solution in xview\n",
    "# Perform checks of the solution with the manufactured solution u = c(x)*c(y)*c(z) in [0, 2pi]^3\n",
    "# x = xview.reshape(N**3)\n",
    "# u = u.reshape(N**3)\n"
   ]
  },
  {
   "cell_type": "code",
   "execution_count": 148,
   "metadata": {},
   "outputs": [
    {
     "data": {
      "image/png": "[encoded data removed]",
      "text/plain": [
       "<Figure size 640x480 with 1 Axes>"
      ]
     },
     "metadata": {},
     "output_type": "display_data"
    }
   ],
   "source": [
    "   \n",
    "x = [xview[i ][2][2] for i in range(N)]\n",
    "uh = [ np.cos(h*i)*np.cos(h*2)*np.cos(h*2) for i in range(N)]\n",
    "plt.plot(x, '-r')\n",
    "plt.plot(uh, '-b')\n",
    "plt.show()\n"
   ]
  },
  {
   "cell_type": "code",
   "execution_count": null,
   "metadata": {},
   "outputs": [],
   "source": []
  },
  {
   "cell_type": "code",
   "execution_count": null,
   "metadata": {},
   "outputs": [],
   "source": []
  }
 ],
 "metadata": {
  "anaconda-cloud": {},
  "kernelspec": {
   "display_name": "Python 3 (ipykernel)",
   "language": "python",
   "name": "python3"
  },
  "language_info": {
   "codemirror_mode": {
    "name": "ipython",
    "version": 3
   },
   "file_extension": ".py",
   "mimetype": "text/x-python",
   "name": "python",
   "nbconvert_exporter": "python",
   "pygments_lexer": "ipython3",
   "version": "3.11.2"
  }
 },
 "nbformat": 4,
 "nbformat_minor": 4
}
