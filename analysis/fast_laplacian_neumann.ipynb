{
 "cells": [
  {
   "cell_type": "code",
   "execution_count": 329,
   "metadata": {
    "id": "RvU0K1PhOBgR"
   },
   "outputs": [],
   "source": [
    "import numpy as np\n",
    "import scipy"
   ]
  },
  {
   "cell_type": "markdown",
   "metadata": {
    "id": "hr5-cOo0W-GV"
   },
   "source": [
    "Compute the fast laplacian for a 1D case for Neumann boundary conditions on both boundaries, and check the results."
   ]
  },
  {
   "cell_type": "code",
   "execution_count": 330,
   "metadata": {
    "id": "yAm3S-MrW6Dx"
   },
   "outputs": [],
   "source": [
    "N = 10 # Size of the matrix."
   ]
  },
  {
   "cell_type": "markdown",
   "metadata": {
    "id": "aY0w7296XYNb"
   },
   "source": [
    "# Trivial method"
   ]
  },
  {
   "cell_type": "code",
   "execution_count": 331,
   "metadata": {
    "colab": {
     "base_uri": "https://localhost:8080/"
    },
    "id": "4GujiLxYT2ZA",
    "outputId": "1963f0c3-13c0-41c2-cda3-c37ea27e6f93"
   },
   "outputs": [
    {
     "data": {
      "text/plain": [
       "array([[-2.,  2.,  0.,  0.,  0.,  0.,  0.,  0.,  0.,  0.],\n",
       "       [ 1., -2.,  1.,  0.,  0.,  0.,  0.,  0.,  0.,  0.],\n",
       "       [ 0.,  1., -2.,  1.,  0.,  0.,  0.,  0.,  0.,  0.],\n",
       "       [ 0.,  0.,  1., -2.,  1.,  0.,  0.,  0.,  0.,  0.],\n",
       "       [ 0.,  0.,  0.,  1., -2.,  1.,  0.,  0.,  0.,  0.],\n",
       "       [ 0.,  0.,  0.,  0.,  1., -2.,  1.,  0.,  0.,  0.],\n",
       "       [ 0.,  0.,  0.,  0.,  0.,  1., -2.,  1.,  0.,  0.],\n",
       "       [ 0.,  0.,  0.,  0.,  0.,  0.,  1., -2.,  1.,  0.],\n",
       "       [ 0.,  0.,  0.,  0.,  0.,  0.,  0.,  1., -2.,  1.],\n",
       "       [ 0.,  0.,  0.,  0.,  0.,  0.,  0.,  0.,  2., -2.]])"
      ]
     },
     "execution_count": 331,
     "metadata": {},
     "output_type": "execute_result"
    }
   ],
   "source": [
    "# Create the matrix for the Laplacian operator.\n",
    "A = [[0 for i in range(N)] for j in range(N)]\n",
    "\n",
    "A[0][0] = -2\n",
    "A[0][1] = 2\n",
    "\n",
    "for i in range(1,N-1):\n",
    "  A[i][i-1] = 1\n",
    "  A[i][i] = -2\n",
    "  A[i][i+1] = 1\n",
    "\n",
    "A[N-1][N-2] = 2\n",
    "A[N-1][N-1] = -2\n",
    "\n",
    "A = np.array(A, dtype=float)\n",
    "A"
   ]
  },
  {
   "cell_type": "code",
   "execution_count": 332,
   "metadata": {
    "id": "FN3UKP__UNfP"
   },
   "outputs": [],
   "source": [
    "# Create a random solution.\n",
    "np.random.seed(1)\n",
    "xex = [np.random.random() for i in range(N)]\n",
    "xex = np.array(xex)"
   ]
  },
  {
   "cell_type": "code",
   "execution_count": 333,
   "metadata": {
    "id": "KwIKIHt3UOP6"
   },
   "outputs": [],
   "source": [
    "# Compute the corresponding rhs.\n",
    "b = A @ xex"
   ]
  },
  {
   "cell_type": "markdown",
   "metadata": {
    "id": "18X68ZfAb05e"
   },
   "source": [
    "# Fast method"
   ]
  },
  {
   "cell_type": "code",
   "execution_count": 334,
   "metadata": {
    "id": "1w1q_HfgcTes"
   },
   "outputs": [],
   "source": [
    "# Compute bhat as D^-1 * b.\n",
    "bhat = np.copy(b)\n",
    "bhat[0] /= np.sqrt(2)\n",
    "bhat[N-1] /= np.sqrt(2)"
   ]
  },
  {
   "cell_type": "code",
   "execution_count": 335,
   "metadata": {
    "id": "ztSPRitHb05k"
   },
   "outputs": [],
   "source": [
    "# Compute btilde.\n",
    "# Documentation of the DCT options: https://docs.scipy.org/doc/scipy/reference/generated/scipy.fftpack.dct.html\n",
    "btilde = scipy.fftpack.dct(bhat, type=1, norm='ortho')"
   ]
  },
  {
   "cell_type": "code",
   "execution_count": 336,
   "metadata": {
    "id": "LYcV4EHxb05l"
   },
   "outputs": [],
   "source": [
    "# Compute xtilde.\n",
    "xtilde = np.copy(btilde)\n",
    "xtilde[0] = 0 # The first eigenvalue is 0: set the first value of xtilde to 0.\n",
    "for i in range(1, N):\n",
    "  xtilde[i] /= ((2*np.cos(np.pi * i / (N-1))-2))"
   ]
  },
  {
   "cell_type": "code",
   "execution_count": 337,
   "metadata": {
    "id": "I8a4iRS0b05n"
   },
   "outputs": [],
   "source": [
    "# Compute xhat.\n",
    "# Note that using DCT or IDCT produces the same result.\n",
    "xhat = scipy.fftpack.idct(xtilde, type=1, norm='ortho')"
   ]
  },
  {
   "cell_type": "code",
   "execution_count": 338,
   "metadata": {
    "id": "VcCb2Ej3ccy5"
   },
   "outputs": [],
   "source": [
    "# Compute x as D * xhat.\n",
    "x = np.copy(xhat)\n",
    "x[0] *= np.sqrt(2)\n",
    "x[N-1] *= np.sqrt(2)"
   ]
  },
  {
   "cell_type": "code",
   "execution_count": 339,
   "metadata": {
    "id": "jVjDgh_Bb05n"
   },
   "outputs": [],
   "source": [
    "# Check the result: xex and x should differ by a constant.\n",
    "tol = 1e-10\n",
    "constant = xex[i] - x[i]\n",
    "for i in range(1,N):\n",
    "  assert xex[i] - x[i] - constant < tol"
   ]
  },
  {
   "cell_type": "markdown",
   "metadata": {
    "id": "oJQhwlxFdIkB"
   },
   "source": [
    "# Eigenvalues and eigenvectors"
   ]
  },
  {
   "cell_type": "markdown",
   "metadata": {
    "id": "oFnr_vATtsiB"
   },
   "source": [
    "The eigenvalues and eigenvectors are different from the ones given by the professor. The eigenvalues are the same for both A and Ahat, while the eigenvectors differ. The following code computes the eigenvalues and eigenvectors of Ahat and compares them to a closed formula I speculate to be correct and that I got from the pdf the professor put on webeep."
   ]
  },
  {
   "cell_type": "code",
   "execution_count": 340,
   "metadata": {
    "colab": {
     "base_uri": "https://localhost:8080/"
    },
    "id": "8yhTFSm2dLnj",
    "outputId": "9b0fe60f-a81f-4fd0-f12f-363080078075"
   },
   "outputs": [
    {
     "data": {
      "text/plain": [
       "array([[-2.        ,  1.41421356,  0.        ,  0.        ,  0.        ,\n",
       "         0.        ,  0.        ,  0.        ,  0.        ,  0.        ],\n",
       "       [ 1.41421356, -2.        ,  1.        ,  0.        ,  0.        ,\n",
       "         0.        ,  0.        ,  0.        ,  0.        ,  0.        ],\n",
       "       [ 0.        ,  1.        , -2.        ,  1.        ,  0.        ,\n",
       "         0.        ,  0.        ,  0.        ,  0.        ,  0.        ],\n",
       "       [ 0.        ,  0.        ,  1.        , -2.        ,  1.        ,\n",
       "         0.        ,  0.        ,  0.        ,  0.        ,  0.        ],\n",
       "       [ 0.        ,  0.        ,  0.        ,  1.        , -2.        ,\n",
       "         1.        ,  0.        ,  0.        ,  0.        ,  0.        ],\n",
       "       [ 0.        ,  0.        ,  0.        ,  0.        ,  1.        ,\n",
       "        -2.        ,  1.        ,  0.        ,  0.        ,  0.        ],\n",
       "       [ 0.        ,  0.        ,  0.        ,  0.        ,  0.        ,\n",
       "         1.        , -2.        ,  1.        ,  0.        ,  0.        ],\n",
       "       [ 0.        ,  0.        ,  0.        ,  0.        ,  0.        ,\n",
       "         0.        ,  1.        , -2.        ,  1.        ,  0.        ],\n",
       "       [ 0.        ,  0.        ,  0.        ,  0.        ,  0.        ,\n",
       "         0.        ,  0.        ,  1.        , -2.        ,  1.41421356],\n",
       "       [ 0.        ,  0.        ,  0.        ,  0.        ,  0.        ,\n",
       "         0.        ,  0.        ,  0.        ,  1.41421356, -2.        ]])"
      ]
     },
     "execution_count": 340,
     "metadata": {},
     "output_type": "execute_result"
    }
   ],
   "source": [
    "# Compute Ahat as D^-1 * A * D.\n",
    "Ahat = np.copy(A)\n",
    "Ahat[0][1] = np.sqrt(2)\n",
    "Ahat[1][0] = np.sqrt(2)\n",
    "Ahat[N-2][N-1] = np.sqrt(2)\n",
    "Ahat[N-1][N-2] = np.sqrt(2)\n",
    "Ahat"
   ]
  },
  {
   "cell_type": "code",
   "execution_count": 341,
   "metadata": {
    "id": "cgxTU7OMdryN"
   },
   "outputs": [],
   "source": [
    "# Compute the eigenvalues and eigenvectors using scipy.\n",
    "eigen = np.linalg.eig(Ahat)\n",
    "eigenvalues = eigen.eigenvalues\n",
    "eigenvectors = eigen.eigenvectors"
   ]
  },
  {
   "cell_type": "code",
   "execution_count": 342,
   "metadata": {
    "id": "e6YXf3bFrRgb"
   },
   "outputs": [],
   "source": [
    "# Associate each eigenvalue with its eigenvector.\n",
    "# Note: this is also a lazy way to sort the eigenvalues from largest to smallest.\n",
    "eigen_dict = {}\n",
    "for i in range(N):\n",
    "  eigen_dict[eigenvalues[i]] = eigenvectors[...,i]"
   ]
  },
  {
   "cell_type": "code",
   "execution_count": 343,
   "metadata": {
    "id": "IWRAjZlIeSNN"
   },
   "outputs": [],
   "source": [
    "# Compute the expected eigenvalues.\n",
    "expected_eigenvalues = [0 for i in range(N)]\n",
    "for i in range(N):\n",
    "  expected_eigenvalues[i] = ((2*np.cos(np.pi * i / (N-1))-2))\n",
    "expected_eigenvalues = np.array(expected_eigenvalues)"
   ]
  },
  {
   "cell_type": "code",
   "execution_count": 344,
   "metadata": {
    "id": "gBIQeypdle1y"
   },
   "outputs": [],
   "source": [
    "# Compute the expected eigenvectors.\n",
    "expected_eigenvectors = [[0 for i in range(N)] for j in range(N)]\n",
    "for i in range(N):\n",
    "  for j in range(N):\n",
    "    expected_eigenvectors[i][j] = np.cos(np.pi * i * j / (N-1))\n",
    "    if i == 0 or i == N-1:\n",
    "      expected_eigenvectors[i][j] /= np.sqrt(2)"
   ]
  },
  {
   "cell_type": "code",
   "execution_count": 345,
   "metadata": {
    "id": "WrBDvZ4MsF1V"
   },
   "outputs": [],
   "source": [
    "# Associate each eigenvalue with its eigenvector.\n",
    "expected_eigen_dict = {}\n",
    "expected_eigen_dict = {}\n",
    "for i in range(N):\n",
    "  expected_eigen_dict[eigenvalues[i]] = eigenvectors[...,i]"
   ]
  },
  {
   "cell_type": "code",
   "execution_count": 346,
   "metadata": {
    "id": "BqwBMwIXlho2"
   },
   "outputs": [],
   "source": [
    "# Check if the eigenvalues are the same and the eigenvectors differ by a constant multiple.\n",
    "eigenvalues = list(eigen_dict.keys())\n",
    "expected_eigenvalues = list(expected_eigen_dict.keys())\n",
    "\n",
    "tol = 1e-10\n",
    "for i in range(N):\n",
    "  assert abs(eigenvalues[i] - expected_eigenvalues[i]) < tol\n",
    "  vec1 = eigen_dict[eigenvalues[i]]\n",
    "  vec2 = expected_eigen_dict[expected_eigenvalues[i]]\n",
    "  if vec2[0] == 0.0:\n",
    "    multiple = 0.0\n",
    "  else:\n",
    "    multiple = vec1[0]/vec2[0]\n",
    "  for j in range(N-1):\n",
    "    assert abs(vec1[j] - multiple * vec2[j]) < tol"
   ]
  }
 ],
 "metadata": {
  "colab": {
   "provenance": []
  },
  "kernelspec": {
   "display_name": "Python 3 (ipykernel)",
   "language": "python",
   "name": "python3"
  },
  "language_info": {
   "codemirror_mode": {
    "name": "ipython",
    "version": 3
   },
   "file_extension": ".py",
   "mimetype": "text/x-python",
   "name": "python",
   "nbconvert_exporter": "python",
   "pygments_lexer": "ipython3",
   "version": "3.11.2"
  }
 },
 "nbformat": 4,
 "nbformat_minor": 4
}
