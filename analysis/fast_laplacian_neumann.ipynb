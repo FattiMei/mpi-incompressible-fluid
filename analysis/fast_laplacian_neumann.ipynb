{
  "nbformat": 4,
  "nbformat_minor": 0,
  "metadata": {
    "colab": {
      "provenance": []
    },
    "kernelspec": {
      "name": "python3",
      "display_name": "Python 3"
    },
    "language_info": {
      "name": "python"
    }
  },
  "cells": [
    {
      "cell_type": "code",
      "execution_count": 329,
      "metadata": {
        "id": "RvU0K1PhOBgR"
      },
      "outputs": [],
      "source": [
        "import numpy as np\n",
        "import scipy"
      ]
    },
    {
      "cell_type": "markdown",
      "source": [
        "Compute the fast laplacian for a 1D case for Neumann boundary conditions on both boundaries, and check the results."
      ],
      "metadata": {
        "id": "hr5-cOo0W-GV"
      }
    },
    {
      "cell_type": "code",
      "source": [
        "N = 10 # Size of the matrix."
      ],
      "metadata": {
        "id": "yAm3S-MrW6Dx"
      },
      "execution_count": 330,
      "outputs": []
    },
    {
      "cell_type": "markdown",
      "source": [
        "# Trivial method"
      ],
      "metadata": {
        "id": "aY0w7296XYNb"
      }
    },
    {
      "cell_type": "code",
      "source": [
        "# Create the matrix for the Laplacian operator.\n",
        "A = [[0 for i in range(N)] for j in range(N)]\n",
        "\n",
        "A[0][0] = -2\n",
        "A[0][1] = 2\n",
        "\n",
        "for i in range(1,N-1):\n",
        "  A[i][i-1] = 1\n",
        "  A[i][i] = -2\n",
        "  A[i][i+1] = 1\n",
        "\n",
        "A[N-1][N-2] = 2\n",
        "A[N-1][N-1] = -2\n",
        "\n",
        "A = np.array(A, dtype=float)\n",
        "A"
      ],
      "metadata": {
        "id": "4GujiLxYT2ZA",
        "colab": {
          "base_uri": "https://localhost:8080/"
        },
        "outputId": "1963f0c3-13c0-41c2-cda3-c37ea27e6f93"
      },
      "execution_count": 331,
      "outputs": [
        {
          "output_type": "execute_result",
          "data": {
            "text/plain": [
              "array([[-2.,  2.,  0.,  0.,  0.,  0.,  0.,  0.,  0.,  0.],\n",
              "       [ 1., -2.,  1.,  0.,  0.,  0.,  0.,  0.,  0.,  0.],\n",
              "       [ 0.,  1., -2.,  1.,  0.,  0.,  0.,  0.,  0.,  0.],\n",
              "       [ 0.,  0.,  1., -2.,  1.,  0.,  0.,  0.,  0.,  0.],\n",
              "       [ 0.,  0.,  0.,  1., -2.,  1.,  0.,  0.,  0.,  0.],\n",
              "       [ 0.,  0.,  0.,  0.,  1., -2.,  1.,  0.,  0.,  0.],\n",
              "       [ 0.,  0.,  0.,  0.,  0.,  1., -2.,  1.,  0.,  0.],\n",
              "       [ 0.,  0.,  0.,  0.,  0.,  0.,  1., -2.,  1.,  0.],\n",
              "       [ 0.,  0.,  0.,  0.,  0.,  0.,  0.,  1., -2.,  1.],\n",
              "       [ 0.,  0.,  0.,  0.,  0.,  0.,  0.,  0.,  2., -2.]])"
            ]
          },
          "metadata": {},
          "execution_count": 331
        }
      ]
    },
    {
      "cell_type": "code",
      "source": [
        "# Create a random solution.\n",
        "np.random.seed(1)\n",
        "xex = [np.random.random() for i in range(N)]\n",
        "xex = np.array(xex)"
      ],
      "metadata": {
        "id": "FN3UKP__UNfP"
      },
      "execution_count": 332,
      "outputs": []
    },
    {
      "cell_type": "code",
      "source": [
        "# Compute the corresponding rhs.\n",
        "b = A @ xex"
      ],
      "metadata": {
        "id": "KwIKIHt3UOP6"
      },
      "execution_count": 333,
      "outputs": []
    },
    {
      "cell_type": "markdown",
      "source": [
        "# Fast method"
      ],
      "metadata": {
        "id": "18X68ZfAb05e"
      }
    },
    {
      "cell_type": "code",
      "source": [
        "# Compute bhat as D^-1 * b.\n",
        "bhat = np.copy(b)\n",
        "bhat[0] /= np.sqrt(2)\n",
        "bhat[N-1] /= np.sqrt(2)"
      ],
      "metadata": {
        "id": "1w1q_HfgcTes"
      },
      "execution_count": 334,
      "outputs": []
    },
    {
      "cell_type": "code",
      "source": [
        "# Compute btilde.\n",
        "# Documentation of the DCT options: https://docs.scipy.org/doc/scipy/reference/generated/scipy.fftpack.dct.html\n",
        "btilde = scipy.fftpack.dct(bhat, type=1, norm='ortho')"
      ],
      "metadata": {
        "id": "ztSPRitHb05k"
      },
      "execution_count": 335,
      "outputs": []
    },
    {
      "cell_type": "code",
      "source": [
        "# Compute xtilde.\n",
        "xtilde = np.copy(btilde)\n",
        "xtilde[0] = 0 # The first eigenvalue is 0: set the first value of xtilde to 0.\n",
        "for i in range(1, N):\n",
        "  xtilde[i] /= ((2*np.cos(np.pi * i / (N-1))-2))"
      ],
      "metadata": {
        "id": "LYcV4EHxb05l"
      },
      "execution_count": 336,
      "outputs": []
    },
    {
      "cell_type": "code",
      "source": [
        "# Compute xhat.\n",
        "# Note that using DCT or IDCT produces the same result.\n",
        "xhat = scipy.fftpack.idct(xtilde, type=1, norm='ortho')"
      ],
      "metadata": {
        "id": "I8a4iRS0b05n"
      },
      "execution_count": 337,
      "outputs": []
    },
    {
      "cell_type": "code",
      "source": [
        "# Compute x as D * xhat.\n",
        "x = np.copy(xhat)\n",
        "x[0] *= np.sqrt(2)\n",
        "x[N-1] *= np.sqrt(2)"
      ],
      "metadata": {
        "id": "VcCb2Ej3ccy5"
      },
      "execution_count": 338,
      "outputs": []
    },
    {
      "cell_type": "code",
      "source": [
        "# Check the result: xex and x should differ by a constant.\n",
        "tol = 1e-10\n",
        "constant = xex[i] - x[i]\n",
        "for i in range(1,N):\n",
        "  assert xex[i] - x[i] - constant < tol"
      ],
      "metadata": {
        "id": "jVjDgh_Bb05n"
      },
      "execution_count": 339,
      "outputs": []
    },
    {
      "cell_type": "markdown",
      "source": [
        "# Eigenvalues and eigenvectors"
      ],
      "metadata": {
        "id": "oJQhwlxFdIkB"
      }
    },
    {
      "cell_type": "markdown",
      "source": [
        "The eigenvalues and eigenvectors are different from the ones given by the professor. The eigenvalues are the same for both A and Ahat, while the eigenvectors differ. The following code computes the eigenvalues and eigenvectors of Ahat and compares them to a closed formula I speculate to be correct and that I got from the pdf the professor put on webeep."
      ],
      "metadata": {
        "id": "oFnr_vATtsiB"
      }
    },
    {
      "cell_type": "code",
      "source": [
        "# Compute Ahat as D^-1 * A * D.\n",
        "Ahat = np.copy(A)\n",
        "Ahat[0][1] = np.sqrt(2)\n",
        "Ahat[1][0] = np.sqrt(2)\n",
        "Ahat[N-2][N-1] = np.sqrt(2)\n",
        "Ahat[N-1][N-2] = np.sqrt(2)\n",
        "Ahat"
      ],
      "metadata": {
        "colab": {
          "base_uri": "https://localhost:8080/"
        },
        "id": "8yhTFSm2dLnj",
        "outputId": "9b0fe60f-a81f-4fd0-f12f-363080078075"
      },
      "execution_count": 340,
      "outputs": [
        {
          "output_type": "execute_result",
          "data": {
            "text/plain": [
              "array([[-2.        ,  1.41421356,  0.        ,  0.        ,  0.        ,\n",
              "         0.        ,  0.        ,  0.        ,  0.        ,  0.        ],\n",
              "       [ 1.41421356, -2.        ,  1.        ,  0.        ,  0.        ,\n",
              "         0.        ,  0.        ,  0.        ,  0.        ,  0.        ],\n",
              "       [ 0.        ,  1.        , -2.        ,  1.        ,  0.        ,\n",
              "         0.        ,  0.        ,  0.        ,  0.        ,  0.        ],\n",
              "       [ 0.        ,  0.        ,  1.        , -2.        ,  1.        ,\n",
              "         0.        ,  0.        ,  0.        ,  0.        ,  0.        ],\n",
              "       [ 0.        ,  0.        ,  0.        ,  1.        , -2.        ,\n",
              "         1.        ,  0.        ,  0.        ,  0.        ,  0.        ],\n",
              "       [ 0.        ,  0.        ,  0.        ,  0.        ,  1.        ,\n",
              "        -2.        ,  1.        ,  0.        ,  0.        ,  0.        ],\n",
              "       [ 0.        ,  0.        ,  0.        ,  0.        ,  0.        ,\n",
              "         1.        , -2.        ,  1.        ,  0.        ,  0.        ],\n",
              "       [ 0.        ,  0.        ,  0.        ,  0.        ,  0.        ,\n",
              "         0.        ,  1.        , -2.        ,  1.        ,  0.        ],\n",
              "       [ 0.        ,  0.        ,  0.        ,  0.        ,  0.        ,\n",
              "         0.        ,  0.        ,  1.        , -2.        ,  1.41421356],\n",
              "       [ 0.        ,  0.        ,  0.        ,  0.        ,  0.        ,\n",
              "         0.        ,  0.        ,  0.        ,  1.41421356, -2.        ]])"
            ]
          },
          "metadata": {},
          "execution_count": 340
        }
      ]
    },
    {
      "cell_type": "code",
      "source": [
        "# Compute the eigenvalues and eigenvectors using scipy.\n",
        "eigen = np.linalg.eig(Ahat)\n",
        "eigenvalues = eigen.eigenvalues\n",
        "eigenvectors = eigen.eigenvectors"
      ],
      "metadata": {
        "id": "cgxTU7OMdryN"
      },
      "execution_count": 341,
      "outputs": []
    },
    {
      "cell_type": "code",
      "source": [
        "# Associate each eigenvalue with its eigenvector.\n",
        "# Note: this is also a lazy way to sort the eigenvalues from largest to smallest.\n",
        "eigen_dict = {}\n",
        "for i in range(N):\n",
        "  eigen_dict[eigenvalues[i]] = eigenvectors[...,i]"
      ],
      "metadata": {
        "id": "e6YXf3bFrRgb"
      },
      "execution_count": 342,
      "outputs": []
    },
    {
      "cell_type": "code",
      "source": [
        "# Compute the expected eigenvalues.\n",
        "expected_eigenvalues = [0 for i in range(N)]\n",
        "for i in range(N):\n",
        "  expected_eigenvalues[i] = ((2*np.cos(np.pi * i / (N-1))-2))\n",
        "expected_eigenvalues = np.array(expected_eigenvalues)"
      ],
      "metadata": {
        "id": "IWRAjZlIeSNN"
      },
      "execution_count": 343,
      "outputs": []
    },
    {
      "cell_type": "code",
      "source": [
        "# Compute the expected eigenvectors.\n",
        "expected_eigenvectors = [[0 for i in range(N)] for j in range(N)]\n",
        "for i in range(N):\n",
        "  for j in range(N):\n",
        "    expected_eigenvectors[i][j] = np.cos(np.pi * i * j / (N-1))\n",
        "    if i == 0 or i == N-1:\n",
        "      expected_eigenvectors[i][j] /= np.sqrt(2)"
      ],
      "metadata": {
        "id": "gBIQeypdle1y"
      },
      "execution_count": 344,
      "outputs": []
    },
    {
      "cell_type": "code",
      "source": [
        "# Associate each eigenvalue with its eigenvector.\n",
        "expected_eigen_dict = {}\n",
        "expected_eigen_dict = {}\n",
        "for i in range(N):\n",
        "  expected_eigen_dict[eigenvalues[i]] = eigenvectors[...,i]"
      ],
      "metadata": {
        "id": "WrBDvZ4MsF1V"
      },
      "execution_count": 345,
      "outputs": []
    },
    {
      "cell_type": "code",
      "source": [
        "# Check if the eigenvalues are the same and the eigenvectors differ by a constant multiple.\n",
        "eigenvalues = list(eigen_dict.keys())\n",
        "expected_eigenvalues = list(expected_eigen_dict.keys())\n",
        "\n",
        "tol = 1e-10\n",
        "for i in range(N):\n",
        "  assert abs(eigenvalues[i] - expected_eigenvalues[i]) < tol\n",
        "  vec1 = eigen_dict[eigenvalues[i]]\n",
        "  vec2 = expected_eigen_dict[expected_eigenvalues[i]]\n",
        "  if vec2[0] == 0.0:\n",
        "    multiple = 0.0\n",
        "  else:\n",
        "    multiple = vec1[0]/vec2[0]\n",
        "  for j in range(N-1):\n",
        "    assert abs(vec1[j] - multiple * vec2[j]) < tol"
      ],
      "metadata": {
        "id": "BqwBMwIXlho2"
      },
      "execution_count": 346,
      "outputs": []
    }
  ]
}