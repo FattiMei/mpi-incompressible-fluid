{
 "cells": [
  {
   "cell_type": "markdown",
   "id": "65e394d7",
   "metadata": {},
   "source": [
    "# Equation for the incompressible fluid\n",
    "$$\n",
    "    \\begin{cases}\n",
    "        \\partial_t \\mathbf{u} + (\\mathbf{u} \\cdot \\nabla) \\mathbf{u} - \\frac{1}{Re} \\nabla^2 \\mathbf{u} + \\nabla p = 0 \\\\\n",
    "        \\nabla \\cdot \\mathbf{u} = 0\n",
    "    \\end{cases}\n",
    "$$"
   ]
  },
  {
   "cell_type": "markdown",
   "id": "f67f903c",
   "metadata": {},
   "source": [
    "## Momentum equations for each component"
   ]
  },
  {
   "cell_type": "code",
   "execution_count": 45,
   "id": "6120cd07",
   "metadata": {},
   "outputs": [],
   "source": [
    "import sympy as sym\n",
    "import IPython.display as disp\n",
    "\n",
    "def divergence(vector, variables):\n",
    "    rows, cols = vector.shape\n",
    "    assert(rows == len(variables))\n",
    "\n",
    "    return sum([\n",
    "        sym.Derivative(vector[i], variables[i]) for i in range(rows)\n",
    "    ])\n",
    "\n",
    "def laplacian(vector, variables):\n",
    "    rows, cols = vector.shape\n",
    "    result = sym.Matrix.zeros(rows, cols)\n",
    "\n",
    "    for i in range(rows):\n",
    "        result[i] = sum(\n",
    "            sym.Derivative(vector[i], var, 2) for var in variables\n",
    "        )\n",
    "\n",
    "    return result\n",
    "\n",
    "def convection(vector, variables):\n",
    "    rows, cols = vector.shape\n",
    "    result = sym.Matrix.zeros(rows, cols)\n",
    "\n",
    "    for i in range(rows):\n",
    "        for j in range(len(variables)):\n",
    "            result[i,0] = result[i,0] + sym.Derivative(vector[i], variables[j]) * vector[j]\n",
    "\n",
    "    return result\n",
    "\n",
    "def gradient(scalar, variables):\n",
    "    result = sym.Matrix.zeros(len(variables), 1)\n",
    "\n",
    "    for i in range(len(variables)):\n",
    "        result[i,0] = sym.Derivative(scalar, variables[i])\n",
    "\n",
    "    return result\n",
    "\n",
    "\n",
    "x, y, z, t, Re = sym.symbols('x y z t Re')\n",
    "u, v, w, p     = sym.symbols('u v w p')\n",
    "\n",
    "U = sym.Matrix([u,v,w])\n",
    "vars = [x,y,z]\n",
    "\n",
    "lhs = sym.Matrix([sym.Derivative(u, t), sym.Derivative(v,t), sym.Derivative(w,t)])\n",
    "rhs = -convection(U, vars) + laplacian(U, vars)/Re - gradient(p, vars)"
   ]
  },
  {
   "cell_type": "code",
   "execution_count": 51,
   "id": "7786efbc",
   "metadata": {},
   "outputs": [
    {
     "data": {
      "image/png": "[encoded data removed]",
      "text/latex": [
       "$\\displaystyle \\frac{d}{d t} u = - u \\frac{d}{d x} u - v \\frac{d}{d y} u - w \\frac{d}{d z} u - \\frac{d}{d x} p + \\frac{\\frac{d^{2}}{d x^{2}} u + \\frac{d^{2}}{d y^{2}} u + \\frac{d^{2}}{d z^{2}} u}{Re}$"
      ],
      "text/plain": [
       "Eq(Derivative(u, t), -u*Derivative(u, x) - v*Derivative(u, y) - w*Derivative(u, z) - Derivative(p, x) + (Derivative(u, (x, 2)) + Derivative(u, (y, 2)) + Derivative(u, (z, 2)))/Re)"
      ]
     },
     "metadata": {},
     "output_type": "display_data"
    },
    {
     "data": {
      "image/png": "[encoded data removed]",
      "text/latex": [
       "$\\displaystyle \\frac{d}{d t} v = - u \\frac{d}{d x} v - v \\frac{d}{d y} v - w \\frac{d}{d z} v - \\frac{d}{d y} p + \\frac{\\frac{d^{2}}{d x^{2}} v + \\frac{d^{2}}{d y^{2}} v + \\frac{d^{2}}{d z^{2}} v}{Re}$"
      ],
      "text/plain": [
       "Eq(Derivative(v, t), -u*Derivative(v, x) - v*Derivative(v, y) - w*Derivative(v, z) - Derivative(p, y) + (Derivative(v, (x, 2)) + Derivative(v, (y, 2)) + Derivative(v, (z, 2)))/Re)"
      ]
     },
     "metadata": {},
     "output_type": "display_data"
    },
    {
     "data": {
      "image/png": "[encoded data removed]",
      "text/latex": [
       "$\\displaystyle \\frac{d}{d t} w = - u \\frac{d}{d x} w - v \\frac{d}{d y} w - w \\frac{d}{d z} w - \\frac{d}{d z} p + \\frac{\\frac{d^{2}}{d x^{2}} w + \\frac{d^{2}}{d y^{2}} w + \\frac{d^{2}}{d z^{2}} w}{Re}$"
      ],
      "text/plain": [
       "Eq(Derivative(w, t), -u*Derivative(w, x) - v*Derivative(w, y) - w*Derivative(w, z) - Derivative(p, z) + (Derivative(w, (x, 2)) + Derivative(w, (y, 2)) + Derivative(w, (z, 2)))/Re)"
      ]
     },
     "metadata": {},
     "output_type": "display_data"
    }
   ],
   "source": [
    "display(sym.Eq(lhs[0], rhs[0]))\n",
    "display(sym.Eq(lhs[1], rhs[1]))\n",
    "display(sym.Eq(lhs[2], rhs[2]))"
   ]
  },
  {
   "cell_type": "markdown",
   "id": "4a701e89",
   "metadata": {},
   "source": [
    "## Staggered mesh challenge\n",
    "The staggered mesh adds another level of complexity to the problem. For the update of the x component of the velocity we need also the y and z components, but those are defined on different grids. Some kind of interpolation is required. We propose the following stencil for the discretization of the mixed terms in the convection term\n",
    "\n",
    "$$\n",
    "    v \\frac{\\partial u}{\\partial y} |_{i+\\frac{1}{2},j,k} \\approx \\frac{v_{i,j+\\frac{1}{2},k} + v_{i,j-\\frac{1}{2},k} + v_{i+1,j+\\frac{1}{2},k} + v_{i+1,j-\\frac{1}{2},k}}{4} \\cdot \\frac{u_{i+\\frac{1}{2},j+1,k} - u_{i+\\frac{1}{2},j-1,k}}{2 \\Delta x}\n",
    "$$"
   ]
  }
 ],
 "metadata": {
  "kernelspec": {
   "display_name": "Python 3 (ipykernel)",
   "language": "python",
   "name": "python3"
  },
  "language_info": {
   "codemirror_mode": {
    "name": "ipython",
    "version": 3
   },
   "file_extension": ".py",
   "mimetype": "text/x-python",
   "name": "python",
   "nbconvert_exporter": "python",
   "pygments_lexer": "ipython3",
   "version": "3.8.10"
  }
 },
 "nbformat": 4,
 "nbformat_minor": 5
}
