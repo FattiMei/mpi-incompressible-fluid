{
  "nbformat": 4,
  "nbformat_minor": 0,
  "metadata": {
    "colab": {
      "provenance": []
    },
    "kernelspec": {
      "name": "python3",
      "display_name": "Python 3"
    },
    "language_info": {
      "name": "python"
    }
  },
  "cells": [
    {
      "cell_type": "code",
      "execution_count": 47,
      "metadata": {
        "id": "RvU0K1PhOBgR"
      },
      "outputs": [],
      "source": [
        "import numpy as np\n",
        "import scipy"
      ]
    },
    {
      "cell_type": "markdown",
      "source": [
        "Compute the fast laplacian for a 1D case for periodic boundary conditions on both boundaries, and check the results."
      ],
      "metadata": {
        "id": "hr5-cOo0W-GV"
      }
    },
    {
      "cell_type": "code",
      "source": [
        "N = 10 # Size of the matrix."
      ],
      "metadata": {
        "id": "yAm3S-MrW6Dx"
      },
      "execution_count": 48,
      "outputs": []
    },
    {
      "cell_type": "markdown",
      "source": [
        "# Trivial method"
      ],
      "metadata": {
        "id": "aY0w7296XYNb"
      }
    },
    {
      "cell_type": "code",
      "source": [
        "# Create the matrix for the Laplacian operator.\n",
        "A = [[0 for i in range(N)] for j in range(N)]\n",
        "\n",
        "A[0][0] = -2\n",
        "A[0][1] = 1\n",
        "A[0][N-1] = 1\n",
        "\n",
        "for i in range(1,N-1):\n",
        "  A[i][i-1] = 1\n",
        "  A[i][i] = -2\n",
        "  A[i][i+1] = 1\n",
        "\n",
        "A[N-1][0] = 1\n",
        "A[N-1][N-2] = 1\n",
        "A[N-1][N-1] = -2\n",
        "\n",
        "A = np.array(A)\n",
        "A"
      ],
      "metadata": {
        "id": "4GujiLxYT2ZA",
        "colab": {
          "base_uri": "https://localhost:8080/"
        },
        "outputId": "a35e6abd-c557-4ba7-9e0f-4fc4b7fa0538"
      },
      "execution_count": 49,
      "outputs": [
        {
          "output_type": "execute_result",
          "data": {
            "text/plain": [
              "array([[-2,  1,  0,  0,  0,  0,  0,  0,  0,  1],\n",
              "       [ 1, -2,  1,  0,  0,  0,  0,  0,  0,  0],\n",
              "       [ 0,  1, -2,  1,  0,  0,  0,  0,  0,  0],\n",
              "       [ 0,  0,  1, -2,  1,  0,  0,  0,  0,  0],\n",
              "       [ 0,  0,  0,  1, -2,  1,  0,  0,  0,  0],\n",
              "       [ 0,  0,  0,  0,  1, -2,  1,  0,  0,  0],\n",
              "       [ 0,  0,  0,  0,  0,  1, -2,  1,  0,  0],\n",
              "       [ 0,  0,  0,  0,  0,  0,  1, -2,  1,  0],\n",
              "       [ 0,  0,  0,  0,  0,  0,  0,  1, -2,  1],\n",
              "       [ 1,  0,  0,  0,  0,  0,  0,  0,  1, -2]])"
            ]
          },
          "metadata": {},
          "execution_count": 49
        }
      ]
    },
    {
      "cell_type": "code",
      "source": [
        "# Create a random solution.\n",
        "np.random.seed(1)\n",
        "xex = [np.random.random() for i in range(N)]\n",
        "xex = np.array(xex)"
      ],
      "metadata": {
        "id": "FN3UKP__UNfP"
      },
      "execution_count": 50,
      "outputs": []
    },
    {
      "cell_type": "code",
      "source": [
        "# Compute the corresponding rhs.\n",
        "b = A @ xex"
      ],
      "metadata": {
        "id": "KwIKIHt3UOP6"
      },
      "execution_count": 51,
      "outputs": []
    },
    {
      "cell_type": "markdown",
      "source": [
        "# Fast method"
      ],
      "metadata": {
        "id": "1fxZdxMfX9Zp"
      }
    },
    {
      "cell_type": "code",
      "source": [
        "# Compute btilde.\n",
        "btilde = scipy.fftpack.fft(b)"
      ],
      "metadata": {
        "id": "fQOXpYtzUP18"
      },
      "execution_count": 52,
      "outputs": []
    },
    {
      "cell_type": "code",
      "source": [
        "# Compute xtilde.\n",
        "xtilde = np.copy(btilde)\n",
        "xtilde[0] = 0 # The first eigenvalue is 0: set the first value of xtilde to 0.\n",
        "for i in range(1, N):\n",
        "  xtilde[i] /= (2*np.cos(2 * np.pi * i / N)-2)"
      ],
      "metadata": {
        "id": "9DuhgDjlUXUo"
      },
      "execution_count": 53,
      "outputs": []
    },
    {
      "cell_type": "code",
      "source": [
        "# Compute x.\n",
        "x = scipy.fftpack.ifft(xtilde)"
      ],
      "metadata": {
        "id": "Zn8ZzCkJUlhB"
      },
      "execution_count": 54,
      "outputs": []
    },
    {
      "cell_type": "code",
      "source": [
        "# The inverse fft returns a vector of complex numbers, but the imaginary part\n",
        "# should be zero. Verify this and remove the imaginary part.\n",
        "tol = 1e-10\n",
        "for i in range(N):\n",
        "  assert abs(x[i].imag) < tol\n",
        "\n",
        "xreal = np.empty(N)\n",
        "for i in range(N):\n",
        "  xreal[i] = x[i].real\n",
        "x = xreal"
      ],
      "metadata": {
        "id": "-zmPGok2Yffm"
      },
      "execution_count": 55,
      "outputs": []
    },
    {
      "cell_type": "code",
      "source": [
        "# Check the result: xex and x should differ by a constant.\n",
        "tol = 1e-10\n",
        "constant = xex[i] - x[i]\n",
        "for i in range(1,N):\n",
        "  assert xex[i] - x[i] - constant < tol"
      ],
      "metadata": {
        "id": "PIztrHX2TQBD"
      },
      "execution_count": 56,
      "outputs": []
    }
  ]
}